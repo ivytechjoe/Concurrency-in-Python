{
 "cells": [
  {
   "cell_type": "code",
   "execution_count": 4,
   "id": "94952a71",
   "metadata": {},
   "outputs": [
    {
     "name": "stdout",
     "output_type": "stream",
     "text": [
      "Today's date: 2023-12-01 00:00:00\n"
     ]
    }
   ],
   "source": [
    "import datetime\n",
    "\n",
    "# Write the current date to a file\n",
    "today = datetime.datetime.today().strftime(\"%Y-%m-%d\")\n",
    "with open(\"today.txt\", \"w\") as f:\n",
    "    f.write(today)\n",
    "\n",
    "# Read the date from the file\n",
    "with open(\"today.txt\", \"r\") as f:\n",
    "    today_string = f.read().strip()\n",
    "\n",
    "# Parse the date from the string\n",
    "today_date = datetime.datetime.strptime(today_string, \"%Y-%m-%d\")\n",
    "\n",
    "print(f\"Today's date: {today_date}\")"
   ]
  },
  {
   "cell_type": "code",
   "execution_count": 10,
   "id": "91056569",
   "metadata": {},
   "outputs": [
    {
     "name": "stdout",
     "output_type": "stream",
     "text": [
      "Main process (33928): Current time is 13:03:45\n",
      "All processes finished.\n"
     ]
    }
   ],
   "source": [
    "\n",
    "import multiprocessing\n",
    "import time\n",
    "import datetime\n",
    "import os\n",
    "\n",
    "\n",
    "def worker():\n",
    "    \"\"\"\n",
    "    This function is executed by each worker process.\n",
    "    \"\"\"\n",
    "    # Wait a random number of seconds between 0 and 1\n",
    "    wait_time = round(random.uniform(0, 1), 2)\n",
    "    time.sleep(wait_time)\n",
    "\n",
    "    # Print the current time\n",
    "    current_time = datetime.datetime.now().strftime(\"%H:%M:%S\")\n",
    "    print(f\"Process {os.getpid()}: Current time is {current_time}\")\n",
    "\n",
    "\n",
    "if __name__ == \"__main__\":\n",
    "    # Print the current time for the main process\n",
    "    current_time = datetime.datetime.now().strftime(\"%H:%M:%S\")\n",
    "    print(f\"Main process ({os.getpid()}): Current time is {current_time}\")\n",
    "\n",
    "    # Create three worker processes\n",
    "    for _ in range(3):\n",
    "        process = multiprocessing.Process(target=worker)\n",
    "        process.start()\n",
    "\n",
    "    # Wait for all processes to finish\n",
    "    for process in multiprocessing.active_children():\n",
    "        process.join()\n",
    "\n",
    "    print(\"All processes finished.\")"
   ]
  },
  {
   "cell_type": "code",
   "execution_count": null,
   "id": "8d44c544",
   "metadata": {},
   "outputs": [],
   "source": []
  }
 ],
 "metadata": {
  "kernelspec": {
   "display_name": "Python 3 (ipykernel)",
   "language": "python",
   "name": "python3"
  },
  "language_info": {
   "codemirror_mode": {
    "name": "ipython",
    "version": 3
   },
   "file_extension": ".py",
   "mimetype": "text/x-python",
   "name": "python",
   "nbconvert_exporter": "python",
   "pygments_lexer": "ipython3",
   "version": "3.11.5"
  }
 },
 "nbformat": 4,
 "nbformat_minor": 5
}
